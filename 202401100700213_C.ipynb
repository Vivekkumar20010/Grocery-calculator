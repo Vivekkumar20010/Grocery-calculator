{
  "nbformat": 4,
  "nbformat_minor": 0,
  "metadata": {
    "colab": {
      "provenance": [],
      "authorship_tag": "ABX9TyOwvh2CxAZyGvGPwQ8K5doK",
      "include_colab_link": true
    },
    "kernelspec": {
      "name": "python3",
      "display_name": "Python 3"
    },
    "language_info": {
      "name": "python"
    }
  },
  "cells": [
    {
      "cell_type": "markdown",
      "metadata": {
        "id": "view-in-github",
        "colab_type": "text"
      },
      "source": [
        "<a href=\"https://colab.research.google.com/github/Vivekkumar20010/Grocery-calculator/blob/main/202401100700213_C.ipynb\" target=\"_parent\"><img src=\"https://colab.research.google.com/assets/colab-badge.svg\" alt=\"Open In Colab\"/></a>"
      ]
    },
    {
      "cell_type": "code",
      "execution_count": null,
      "metadata": {
        "id": "OuSWwyApBCDd"
      },
      "outputs": [],
      "source": [
        "class TodoList:\n",
        "    def __init__(self):\n",
        "        self.tasks = []\n",
        "\n",
        "    def add_task(self, task):\n",
        "        self.tasks.append({\"task\": task, \"completed\": False})\n",
        "        print(f\"Task '{task}' added to your to-do list.\")\n",
        "\n",
        "    def view_tasks(self):\n",
        "        if not self.tasks:\n",
        "            print(\"Your to-do list is empty.\")\n",
        "        else:\n",
        "            print(\"\\nYour To-Do List:\")\n",
        "            for index, task in enumerate(self.tasks, start=1):\n",
        "                status = \"Completed\" if task[\"completed\"] else \"Pending\"\n",
        "                print(f\"{index}. {task['task']} - {status}\")\n",
        "\n",
        "    def mark_completed(self, task_index):\n",
        "        if 0 < task_index <= len(self.tasks):\n",
        "            self.tasks[task_index - 1][\"completed\"] = True\n",
        "            print(f\"Task '{self.tasks[task_index - 1]['task']}' marked as completed.\")\n",
        "        else:\n",
        "            print(\"Invalid task number.\")\n",
        "\n",
        "    def delete_task(self, task_index):\n",
        "        if 0 < task_index <= len(self.tasks):\n",
        "            deleted_task = self.tasks.pop(task_index - 1)\n",
        "            print(f\"Task '{deleted_task['task']}' deleted.\")\n",
        "        else:\n",
        "            print(\"Invalid task number.\")\n",
        "\n",
        "def display_menu():\n",
        "    print(\"\\nTo-Do List Menu:\")\n",
        "    print(\"1. Add Task\")\n",
        "    print(\"2. View Tasks\")\n",
        "    print(\"3. Mark Task as Completed\")\n",
        "    print(\"4. Delete Task\")\n",
        "    print(\"5. Exit\")\n",
        "\n",
        "def main():\n",
        "    todo_list = TodoList()\n",
        "\n",
        "    while True:\n",
        "        display_menu()\n",
        "        choice = input(\"Choose an option (1-5): \")\n",
        "\n",
        "        if choice == '1':\n",
        "            task = input(\"Enter the task: \")\n",
        "            todo_list.add_task(task)\n",
        "        elif choice == '2':\n",
        "            todo_list.view_tasks()\n",
        "        elif choice == '3':\n",
        "            todo_list.view_tasks()\n",
        "            try:\n",
        "                task_index = int(input(\"Enter the task number to mark as completed: \"))\n",
        "                todo_list.mark_completed(task_index)\n",
        "            except ValueError:\n",
        "                print(\"Please enter a valid task number.\")\n",
        "        elif choice == '4':\n",
        "            todo_list.view_tasks()\n",
        "            try:\n",
        "                task_index = int(input(\"Enter the task number to delete: \"))\n",
        "                todo_list.delete_task(task_index)\n",
        "            except ValueError:\n",
        "                print(\"Please enter a valid task number.\")\n",
        "        elif choice == '5':\n",
        "            print(\"Exiting To-Do List. Goodbye!\")\n",
        "            break\n",
        "        else:\n",
        "            print(\"Invalid option. Please choose again.\")\n",
        "\n",
        "if __name__ == \"__main__\":\n",
        "    main()\n"
      ]
    }
  ]
}